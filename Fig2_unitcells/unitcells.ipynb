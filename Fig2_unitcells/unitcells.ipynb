{
 "cells": [
  {
   "cell_type": "code",
   "execution_count": 5,
   "id": "italic-integer",
   "metadata": {},
   "outputs": [],
   "source": [
    "import damask\n",
    "import numpy as np\n",
    "import matplotlib.pyplot as plt"
   ]
  },
  {
   "cell_type": "markdown",
   "id": "accessory-negative",
   "metadata": {},
   "source": [
    "### Figure 2.1 Exemplary unitcells of bulk and film polycrystals."
   ]
  },
  {
   "cell_type": "code",
   "execution_count": 3,
   "id": "disciplinary-imaging",
   "metadata": {},
   "outputs": [],
   "source": [
    "N = 400 #total grain count in a unitcell\n",
    "g = 288 #grid density g*g*g\n",
    "air = 20 #thickness of virtual air\n",
    "\n",
    "#generate polycrystal structure using Voronoi tessellation\n",
    "geom = damask.Grid.from_Voronoi_tessellation(np.ones(3,dtype=int)*g,\n",
    "                                            np.ones(3),\n",
    "                                            np.random.random((N,3)))\n",
    "\n",
    "#add a layer of virtual air to create a gap in the otherwise continuous metal bulk (surface normal parallel to y)\n",
    "geom_air = geom.canvas(cells=geom.cells+np.array([0,air,0]),\n",
    "                       offset=np.array([0,-air/2,0]))\n",
    "\n",
    "#save\n",
    "geom.save(f'{N}_{g}_bulk')\n",
    "geom_air.save(f'{N}_{g}_film')"
   ]
  },
  {
   "cell_type": "code",
   "execution_count": null,
   "id": "offensive-metallic",
   "metadata": {},
   "outputs": [],
   "source": [
    "#IPF colored grains\n",
    "v = damask.VTK.load(f'{N}_{g}_bulk.vti')\n",
    "material_ID = v.get('material').flatten()\n",
    "IPF = np.ones((len(material_ID),3),np.uint8)\n",
    "\n",
    "for i in range(N): #randomly assign crystallographic orientation to 400 grains\n",
    "    IPF[np.where(material_ID==i)] = \\\n",
    "    np.uint8(damask.Orientation(damask.Rotation.from_random(), lattice='hP').IPF_color(np.array([0,0,1]))*255)\n",
    "\n",
    "v.set('IPF_001', IPF).save(f'{N}_{g}_bulk_IPF')"
   ]
  },
  {
   "cell_type": "code",
   "execution_count": 7,
   "id": "legislative-sensitivity",
   "metadata": {},
   "outputs": [],
   "source": [
    "#generate IPF color map\n",
    "xp = []\n",
    "yp = []\n",
    "colorp = []\n",
    "for i in range(60000): #points filling in the map\n",
    "    o = damask.Orientation(damask.Rotation.from_random(), lattice='hP') #random orientation\n",
    "    IPF = o.IPF_color(np.array([1,0,0])) #the IPF color of lab-x in this orientation\n",
    "    o_SST = o.to_SST(np.array([1,0,0])) #transform to SST\n",
    "    if o_SST[2] > 0:\n",
    "        xp.append(o_SST[0]/(o_SST[2]+1))\n",
    "        yp.append(o_SST[1]/(o_SST[2]+1))\n",
    "        colorp.append(IPF)\n",
    "plt.figure(figsize=(8, 4), dpi=80)\n",
    "plt.scatter(xp, yp, c=colorp, marker='h')\n",
    "plt.xlim(0, 1)\n",
    "plt.ylim(0, 0.5)\n",
    "plt.savefig('IPF_100.png')"
   ]
  },
  {
   "cell_type": "code",
   "execution_count": null,
   "id": "announced-permission",
   "metadata": {},
   "outputs": [],
   "source": []
  }
 ],
 "metadata": {
  "kernelspec": {
   "display_name": "Python 3",
   "language": "python",
   "name": "python3"
  },
  "language_info": {
   "codemirror_mode": {
    "name": "ipython",
    "version": 3
   },
   "file_extension": ".py",
   "mimetype": "text/x-python",
   "name": "python",
   "nbconvert_exporter": "python",
   "pygments_lexer": "ipython3",
   "version": "3.8.12"
  }
 },
 "nbformat": 4,
 "nbformat_minor": 5
}
