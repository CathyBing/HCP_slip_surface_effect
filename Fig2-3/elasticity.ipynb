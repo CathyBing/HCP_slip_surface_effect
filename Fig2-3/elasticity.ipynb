{
 "cells": [
  {
   "cell_type": "markdown",
   "id": "breeding-meeting",
   "metadata": {},
   "source": [
    "### Fig. 2.3: Directional stiffness E in lattice frame"
   ]
  },
  {
   "cell_type": "markdown",
   "id": "conditional-script",
   "metadata": {},
   "source": [
    "See https://github.com/eisenlohr/elasticModulusVisualization for more details."
   ]
  },
  {
   "cell_type": "code",
   "execution_count": 1,
   "id": "studied-silicon",
   "metadata": {},
   "outputs": [],
   "source": [
    "import os\n",
    "import glob\n",
    "import pyvista as pv\n",
    "import pandas as pd\n",
    "import numpy as np"
   ]
  },
  {
   "cell_type": "code",
   "execution_count": 2,
   "id": "positive-forge",
   "metadata": {},
   "outputs": [],
   "source": [
    "#get elastic stiffness tensor of common HCP metals\n",
    "file = open(\"data.txt\",\"r\")\n",
    "data = file.read().split()"
   ]
  },
  {
   "cell_type": "code",
   "execution_count": 7,
   "id": "binding-seven",
   "metadata": {},
   "outputs": [
    {
     "name": "stdout",
     "output_type": "stream",
     "text": [
      "python elasticModulusVisualization.py --symmetry hexagonal --c11 292 --c12 24 --c13 6 --c33 349 --c44 163 vtk Be\n",
      "python elasticModulusVisualization.py --symmetry hexagonal --c11 59.3 --c12 25.7 --c13 21.4 --c33 61.5 --c44 16.4 vtk Mg\n",
      "python elasticModulusVisualization.py --symmetry hexagonal --c11 160 --c12 90 --c13 66 --c33 181 --c44 46.5 vtk Ti\n",
      "python elasticModulusVisualization.py --symmetry hexagonal --c11 295 --c12 159 --c13 111 --c33 335 --c44 71 vtk Co\n",
      "python elasticModulusVisualization.py --symmetry hexagonal --c11 165 --c12 31.1 --c13 50 --c33 61.8 --c44 39.6 vtk Zn\n",
      "python elasticModulusVisualization.py --symmetry hexagonal --c11 144 --c12 74 --c13 67 --c33 166 --c44 33.4 vtk Zr\n",
      "python elasticModulusVisualization.py --symmetry hexagonal --c11 116 --c12 43 --c13 41 --c33 50.9 --c44 19.6 vtk Cd\n"
     ]
    }
   ],
   "source": [
    "#plot directional elastic modulus\n",
    "for i in range(7):\n",
    "    cmd = 'python elasticModulusVisualization.py --symmetry hexagonal '\n",
    "    cmd += f'--c11 {data[i*7+1]} --c12 {data[i*7+4]} --c13 {data[i*7+5]} --c33 {data[i*7+2]} --c44 {data[i*7+3]}'\n",
    "    cmd += ' vtk '\n",
    "    cmd += f'{data[i*7]}'\n",
    "    print(cmd)\n",
    "    os.system(f'{cmd}')"
   ]
  },
  {
   "cell_type": "markdown",
   "id": "adverse-completion",
   "metadata": {},
   "source": [
    "Create three sample materials that span the anisotropy range of common HCP metals."
   ]
  },
  {
   "cell_type": "code",
   "execution_count": 8,
   "id": "immune-hypothetical",
   "metadata": {},
   "outputs": [
    {
     "data": {
      "text/plain": [
       "0"
      ]
     },
     "execution_count": 8,
     "metadata": {},
     "output_type": "execute_result"
    }
   ],
   "source": [
    "cmd = 'python elasticModulusVisualization.py --symmetry hexagonal '\n",
    "cmd += f'--c11 165 --c12 5 --c13 55 --c33 140 --c44 60'\n",
    "cmd += ' vtk '\n",
    "cmd += f'marshmallow'\n",
    "os.system(f'{cmd}')"
   ]
  },
  {
   "cell_type": "code",
   "execution_count": 9,
   "id": "analyzed-prime",
   "metadata": {},
   "outputs": [
    {
     "data": {
      "text/plain": [
       "0"
      ]
     },
     "execution_count": 9,
     "metadata": {},
     "output_type": "execute_result"
    }
   ],
   "source": [
    "cmd = 'python elasticModulusVisualization.py --symmetry hexagonal '\n",
    "cmd += f'--c11 110 --c12 10 --c13 5 --c33 130 --c44 70'\n",
    "cmd += ' vtk '\n",
    "cmd += f'capsule'\n",
    "os.system(f'{cmd}')"
   ]
  },
  {
   "cell_type": "code",
   "execution_count": 10,
   "id": "considered-projector",
   "metadata": {},
   "outputs": [
    {
     "data": {
      "text/plain": [
       "0"
      ]
     },
     "execution_count": 10,
     "metadata": {},
     "output_type": "execute_result"
    }
   ],
   "source": [
    "cmd = 'python elasticModulusVisualization.py --symmetry hexagonal '\n",
    "cmd += f'--c11 165 --c12 90 --c13 60 --c33 190 --c44 40'\n",
    "cmd += ' vtk '\n",
    "cmd += f'spin'\n",
    "os.system(f'{cmd}')"
   ]
  },
  {
   "cell_type": "code",
   "execution_count": null,
   "id": "northern-example",
   "metadata": {},
   "outputs": [],
   "source": []
  }
 ],
 "metadata": {
  "kernelspec": {
   "display_name": "Python 3",
   "language": "python",
   "name": "python3"
  },
  "language_info": {
   "codemirror_mode": {
    "name": "ipython",
    "version": 3
   },
   "file_extension": ".py",
   "mimetype": "text/x-python",
   "name": "python",
   "nbconvert_exporter": "python",
   "pygments_lexer": "ipython3",
   "version": "3.8.12"
  }
 },
 "nbformat": 4,
 "nbformat_minor": 5
}
