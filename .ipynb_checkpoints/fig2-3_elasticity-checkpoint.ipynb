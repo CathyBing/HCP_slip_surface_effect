{
 "cells": [
  {
   "cell_type": "markdown",
   "id": "breeding-meeting",
   "metadata": {},
   "source": [
    "### Fig. 2.3: Directional stiffness E in lattice frame"
   ]
  },
  {
   "cell_type": "markdown",
   "id": "conditional-script",
   "metadata": {},
   "source": [
    "See https://github.com/eisenlohr/elasticModulusVisualization for more details."
   ]
  },
  {
   "cell_type": "code",
   "execution_count": 1,
   "id": "studied-silicon",
   "metadata": {},
   "outputs": [],
   "source": [
    "import os\n",
    "import glob\n",
    "import pyvista as pv\n",
    "import pandas as pd\n",
    "import numpy as np"
   ]
  },
  {
   "cell_type": "code",
   "execution_count": 9,
   "id": "positive-forge",
   "metadata": {},
   "outputs": [],
   "source": [
    "file1 = open(\"data.txt\",\"r\")"
   ]
  },
  {
   "cell_type": "code",
   "execution_count": 10,
   "id": "suitable-impact",
   "metadata": {},
   "outputs": [],
   "source": [
    "data = file1.read().split()"
   ]
  },
  {
   "cell_type": "code",
   "execution_count": 11,
   "id": "whole-seminar",
   "metadata": {},
   "outputs": [
    {
     "data": {
      "text/plain": [
       "168"
      ]
     },
     "execution_count": 11,
     "metadata": {},
     "output_type": "execute_result"
    }
   ],
   "source": [
    "len(data)"
   ]
  },
  {
   "cell_type": "code",
   "execution_count": 12,
   "id": "strange-identifier",
   "metadata": {},
   "outputs": [
    {
     "data": {
      "text/plain": [
       "['Be',\n",
       " '292',\n",
       " '349',\n",
       " '163',\n",
       " '24',\n",
       " '6',\n",
       " '3.45',\n",
       " 'Mg',\n",
       " '59.3',\n",
       " '61.5',\n",
       " '16.4',\n",
       " '25.7',\n",
       " '21.4',\n",
       " '22.0',\n",
       " 'Sc',\n",
       " '99.3',\n",
       " '107',\n",
       " '27.7',\n",
       " '39.7',\n",
       " '29.4',\n",
       " '12.46',\n",
       " 'Ti',\n",
       " '160',\n",
       " '181',\n",
       " '46.5',\n",
       " '90',\n",
       " '66',\n",
       " '9.62',\n",
       " 'Co',\n",
       " '295',\n",
       " '335',\n",
       " '71',\n",
       " '159',\n",
       " '111',\n",
       " '4.99',\n",
       " 'Zn',\n",
       " '165',\n",
       " '61.8',\n",
       " '39.6',\n",
       " '31.1',\n",
       " '50',\n",
       " '8.07',\n",
       " 'Y',\n",
       " '77.9',\n",
       " '76.9',\n",
       " '24.3',\n",
       " '29.2',\n",
       " '20',\n",
       " '15.44',\n",
       " 'Zr',\n",
       " '144',\n",
       " '166',\n",
       " '33.4',\n",
       " '74',\n",
       " '67',\n",
       " '10.20',\n",
       " 'Ru',\n",
       " '563',\n",
       " '624',\n",
       " '181',\n",
       " '188',\n",
       " '168',\n",
       " '2.09',\n",
       " 'Cd',\n",
       " '116',\n",
       " '50.9',\n",
       " '19.6',\n",
       " '43',\n",
       " '41',\n",
       " '12.20',\n",
       " 'La',\n",
       " '51.44',\n",
       " '54.63',\n",
       " '13.92',\n",
       " '17.27',\n",
       " '10.4',\n",
       " '22.35',\n",
       " 'Pr',\n",
       " '49.4',\n",
       " '57.4',\n",
       " '13.6',\n",
       " '23',\n",
       " '14.3',\n",
       " '26.60',\n",
       " 'Nd',\n",
       " '54.8',\n",
       " '60.9',\n",
       " '15.0',\n",
       " '24.6',\n",
       " '16.6',\n",
       " '23.66',\n",
       " 'Gd',\n",
       " '67.25',\n",
       " '71.55',\n",
       " '20.75',\n",
       " '25.3',\n",
       " '21',\n",
       " '18.15',\n",
       " 'Tb',\n",
       " '68.55',\n",
       " '73.3',\n",
       " '21.6',\n",
       " '24.65',\n",
       " '22.4',\n",
       " '17.68',\n",
       " 'Dy',\n",
       " '74',\n",
       " '78.6',\n",
       " '34.3',\n",
       " '25.5',\n",
       " '21.8',\n",
       " '16.03',\n",
       " 'Ho',\n",
       " '76.5',\n",
       " '79.6',\n",
       " '25.9',\n",
       " '25.6',\n",
       " '21',\n",
       " '15.32',\n",
       " 'Er',\n",
       " '84.1',\n",
       " '84.7',\n",
       " '27.4',\n",
       " '29.4',\n",
       " '22.6',\n",
       " '14.10',\n",
       " 'Tm',\n",
       " '92.5',\n",
       " '81.5',\n",
       " '28.2',\n",
       " '33.5',\n",
       " '21',\n",
       " '12.82',\n",
       " 'Lu',\n",
       " '86.2',\n",
       " '80.9',\n",
       " '26.8',\n",
       " '32',\n",
       " '28',\n",
       " '14.28',\n",
       " 'Hf',\n",
       " '181',\n",
       " '197',\n",
       " '55.7',\n",
       " '77',\n",
       " '66',\n",
       " '7.15',\n",
       " 'Re',\n",
       " '616',\n",
       " '683',\n",
       " '161',\n",
       " '273',\n",
       " '206',\n",
       " '2.11',\n",
       " 'Os',\n",
       " '765',\n",
       " '846',\n",
       " '270',\n",
       " '229',\n",
       " '219',\n",
       " '1.501',\n",
       " 'Tl',\n",
       " '41.35',\n",
       " '53.85',\n",
       " '7.23',\n",
       " '36',\n",
       " '29.45',\n",
       " '104.5']"
      ]
     },
     "execution_count": 12,
     "metadata": {},
     "output_type": "execute_result"
    }
   ],
   "source": [
    "data"
   ]
  },
  {
   "cell_type": "code",
   "execution_count": 14,
   "id": "binding-seven",
   "metadata": {},
   "outputs": [
    {
     "name": "stdout",
     "output_type": "stream",
     "text": [
      "python elasticModulusVisualization.py --symmetry hexagonal --c11 292 --c12 24 --c13 6 --c33 349 --c44 163  Be\n",
      "python elasticModulusVisualization.py --symmetry hexagonal --c11 59.3 --c12 25.7 --c13 21.4 --c33 61.5 --c44 16.4  Mg\n",
      "python elasticModulusVisualization.py --symmetry hexagonal --c11 99.3 --c12 39.7 --c13 29.4 --c33 107 --c44 27.7  Sc\n",
      "python elasticModulusVisualization.py --symmetry hexagonal --c11 160 --c12 90 --c13 66 --c33 181 --c44 46.5  Ti\n",
      "python elasticModulusVisualization.py --symmetry hexagonal --c11 295 --c12 159 --c13 111 --c33 335 --c44 71  Co\n",
      "python elasticModulusVisualization.py --symmetry hexagonal --c11 165 --c12 31.1 --c13 50 --c33 61.8 --c44 39.6  Zn\n",
      "python elasticModulusVisualization.py --symmetry hexagonal --c11 77.9 --c12 29.2 --c13 20 --c33 76.9 --c44 24.3  Y\n",
      "python elasticModulusVisualization.py --symmetry hexagonal --c11 144 --c12 74 --c13 67 --c33 166 --c44 33.4  Zr\n",
      "python elasticModulusVisualization.py --symmetry hexagonal --c11 563 --c12 188 --c13 168 --c33 624 --c44 181  Ru\n",
      "python elasticModulusVisualization.py --symmetry hexagonal --c11 116 --c12 43 --c13 41 --c33 50.9 --c44 19.6  Cd\n",
      "python elasticModulusVisualization.py --symmetry hexagonal --c11 51.44 --c12 17.27 --c13 10.4 --c33 54.63 --c44 13.92  La\n",
      "python elasticModulusVisualization.py --symmetry hexagonal --c11 49.4 --c12 23 --c13 14.3 --c33 57.4 --c44 13.6  Pr\n",
      "python elasticModulusVisualization.py --symmetry hexagonal --c11 54.8 --c12 24.6 --c13 16.6 --c33 60.9 --c44 15.0  Nd\n",
      "python elasticModulusVisualization.py --symmetry hexagonal --c11 67.25 --c12 25.3 --c13 21 --c33 71.55 --c44 20.75  Gd\n",
      "python elasticModulusVisualization.py --symmetry hexagonal --c11 68.55 --c12 24.65 --c13 22.4 --c33 73.3 --c44 21.6  Tb\n",
      "python elasticModulusVisualization.py --symmetry hexagonal --c11 74 --c12 25.5 --c13 21.8 --c33 78.6 --c44 34.3  Dy\n",
      "python elasticModulusVisualization.py --symmetry hexagonal --c11 76.5 --c12 25.6 --c13 21 --c33 79.6 --c44 25.9  Ho\n",
      "python elasticModulusVisualization.py --symmetry hexagonal --c11 84.1 --c12 29.4 --c13 22.6 --c33 84.7 --c44 27.4  Er\n",
      "python elasticModulusVisualization.py --symmetry hexagonal --c11 92.5 --c12 33.5 --c13 21 --c33 81.5 --c44 28.2  Tm\n",
      "python elasticModulusVisualization.py --symmetry hexagonal --c11 86.2 --c12 32 --c13 28 --c33 80.9 --c44 26.8  Lu\n",
      "python elasticModulusVisualization.py --symmetry hexagonal --c11 181 --c12 77 --c13 66 --c33 197 --c44 55.7  Hf\n",
      "python elasticModulusVisualization.py --symmetry hexagonal --c11 616 --c12 273 --c13 206 --c33 683 --c44 161  Re\n",
      "python elasticModulusVisualization.py --symmetry hexagonal --c11 765 --c12 229 --c13 219 --c33 846 --c44 270  Os\n",
      "python elasticModulusVisualization.py --symmetry hexagonal --c11 41.35 --c12 36 --c13 29.45 --c33 53.85 --c44 7.23  Tl\n"
     ]
    }
   ],
   "source": [
    "for i in range(24):\n",
    "    cmd = 'python elasticModulusVisualization.py --symmetry hexagonal '\n",
    "    cmd += f'--c11 {data[i*7+1]} --c12 {data[i*7+4]} --c13 {data[i*7+5]} --c33 {data[i*7+2]} --c44 {data[i*7+3]}'\n",
    "    cmd += '  '\n",
    "    cmd += f'{data[i*7]}'\n",
    "    os.system(f'{cmd}')\n",
    "    print(cmd)"
   ]
  },
  {
   "cell_type": "code",
   "execution_count": 34,
   "id": "loose-karma",
   "metadata": {},
   "outputs": [],
   "source": [
    "vtp=glob.glob('*.vtp')"
   ]
  },
  {
   "cell_type": "code",
   "execution_count": 41,
   "id": "partial-chicago",
   "metadata": {},
   "outputs": [],
   "source": []
  },
  {
   "cell_type": "code",
   "execution_count": 3,
   "id": "utility-variety",
   "metadata": {},
   "outputs": [],
   "source": []
  },
  {
   "cell_type": "code",
   "execution_count": 74,
   "id": "offshore-receipt",
   "metadata": {},
   "outputs": [
    {
     "name": "stdout",
     "output_type": "stream",
     "text": [
      "369\n",
      "4\n",
      "12\n",
      "496\n",
      "257\n",
      "75\n",
      "30\n",
      "495\n",
      "117\n",
      "521\n",
      "520\n",
      "131\n",
      "126\n",
      "248\n",
      "75\n",
      "334\n",
      "278\n",
      "4\n",
      "493\n",
      "276\n",
      "132\n"
     ]
    }
   ],
   "source": [
    "rmax=[]\n",
    "rmin=[]\n",
    "name=[]\n",
    "ratio=[]\n",
    "for file in vtp:\n",
    "    Eball = pv.read(f'{file}')\n",
    "    name.append(file[:-4])\n",
    "    rmax.append(Eball['E'].max())\n",
    "    rmin.append(Eball['E'].min())\n",
    "    unique, count = np.unique(Eball['E'], return_counts=True)\n",
    "    print(Eball['E'].argmin())\n"
   ]
  },
  {
   "cell_type": "code",
   "execution_count": 56,
   "id": "occasional-pacific",
   "metadata": {},
   "outputs": [],
   "source": [
    "df = pd.DataFrame({'metal': name, 'E_max': rmax, 'E_min': rmin})"
   ]
  },
  {
   "cell_type": "code",
   "execution_count": 57,
   "id": "still-pulse",
   "metadata": {},
   "outputs": [
    {
     "data": {
      "text/html": [
       "<div>\n",
       "<style scoped>\n",
       "    .dataframe tbody tr th:only-of-type {\n",
       "        vertical-align: middle;\n",
       "    }\n",
       "\n",
       "    .dataframe tbody tr th {\n",
       "        vertical-align: top;\n",
       "    }\n",
       "\n",
       "    .dataframe thead th {\n",
       "        text-align: right;\n",
       "    }\n",
       "</style>\n",
       "<table border=\"1\" class=\"dataframe\">\n",
       "  <thead>\n",
       "    <tr style=\"text-align: right;\">\n",
       "      <th></th>\n",
       "      <th>metal</th>\n",
       "      <th>E_max</th>\n",
       "      <th>E_min</th>\n",
       "    </tr>\n",
       "  </thead>\n",
       "  <tbody>\n",
       "    <tr>\n",
       "      <th>0</th>\n",
       "      <td>Tm</td>\n",
       "      <td>78.029376</td>\n",
       "      <td>69.805151</td>\n",
       "    </tr>\n",
       "    <tr>\n",
       "      <th>1</th>\n",
       "      <td>Cd</td>\n",
       "      <td>81.775418</td>\n",
       "      <td>29.755346</td>\n",
       "    </tr>\n",
       "    <tr>\n",
       "      <th>2</th>\n",
       "      <td>Tl</td>\n",
       "      <td>31.424596</td>\n",
       "      <td>9.566171</td>\n",
       "    </tr>\n",
       "    <tr>\n",
       "      <th>3</th>\n",
       "      <td>Zr</td>\n",
       "      <td>124.816514</td>\n",
       "      <td>91.077220</td>\n",
       "    </tr>\n",
       "    <tr>\n",
       "      <th>4</th>\n",
       "      <td>Os</td>\n",
       "      <td>749.498994</td>\n",
       "      <td>661.246503</td>\n",
       "    </tr>\n",
       "    <tr>\n",
       "      <th>5</th>\n",
       "      <td>Be</td>\n",
       "      <td>348.772152</td>\n",
       "      <td>289.940474</td>\n",
       "    </tr>\n",
       "    <tr>\n",
       "      <th>6</th>\n",
       "      <td>Ti</td>\n",
       "      <td>146.152000</td>\n",
       "      <td>103.953016</td>\n",
       "    </tr>\n",
       "    <tr>\n",
       "      <th>7</th>\n",
       "      <td>Er</td>\n",
       "      <td>75.699824</td>\n",
       "      <td>68.140595</td>\n",
       "    </tr>\n",
       "    <tr>\n",
       "      <th>8</th>\n",
       "      <td>Hf</td>\n",
       "      <td>163.232558</td>\n",
       "      <td>139.057418</td>\n",
       "    </tr>\n",
       "    <tr>\n",
       "      <th>9</th>\n",
       "      <td>Sc</td>\n",
       "      <td>94.563165</td>\n",
       "      <td>72.628628</td>\n",
       "    </tr>\n",
       "    <tr>\n",
       "      <th>10</th>\n",
       "      <td>Gd</td>\n",
       "      <td>62.020016</td>\n",
       "      <td>52.788684</td>\n",
       "    </tr>\n",
       "    <tr>\n",
       "      <th>11</th>\n",
       "      <td>Re</td>\n",
       "      <td>587.530934</td>\n",
       "      <td>428.256536</td>\n",
       "    </tr>\n",
       "    <tr>\n",
       "      <th>12</th>\n",
       "      <td>Ho</td>\n",
       "      <td>70.961410</td>\n",
       "      <td>63.834584</td>\n",
       "    </tr>\n",
       "    <tr>\n",
       "      <th>13</th>\n",
       "      <td>Ru</td>\n",
       "      <td>548.836218</td>\n",
       "      <td>459.123810</td>\n",
       "    </tr>\n",
       "    <tr>\n",
       "      <th>14</th>\n",
       "      <td>Dy</td>\n",
       "      <td>75.457255</td>\n",
       "      <td>62.384514</td>\n",
       "    </tr>\n",
       "    <tr>\n",
       "      <th>15</th>\n",
       "      <td>Lu</td>\n",
       "      <td>70.004006</td>\n",
       "      <td>67.135399</td>\n",
       "    </tr>\n",
       "    <tr>\n",
       "      <th>16</th>\n",
       "      <td>Mg</td>\n",
       "      <td>50.724471</td>\n",
       "      <td>42.852750</td>\n",
       "    </tr>\n",
       "    <tr>\n",
       "      <th>17</th>\n",
       "      <td>Zn</td>\n",
       "      <td>127.805610</td>\n",
       "      <td>36.302805</td>\n",
       "    </tr>\n",
       "    <tr>\n",
       "      <th>18</th>\n",
       "      <td>Co</td>\n",
       "      <td>280.722467</td>\n",
       "      <td>186.619100</td>\n",
       "    </tr>\n",
       "    <tr>\n",
       "      <th>19</th>\n",
       "      <td>Tb</td>\n",
       "      <td>62.532618</td>\n",
       "      <td>54.903712</td>\n",
       "    </tr>\n",
       "    <tr>\n",
       "      <th>20</th>\n",
       "      <td>Y</td>\n",
       "      <td>69.430345</td>\n",
       "      <td>60.795648</td>\n",
       "    </tr>\n",
       "  </tbody>\n",
       "</table>\n",
       "</div>"
      ],
      "text/plain": [
       "   metal       E_max       E_min\n",
       "0     Tm   78.029376   69.805151\n",
       "1     Cd   81.775418   29.755346\n",
       "2     Tl   31.424596    9.566171\n",
       "3     Zr  124.816514   91.077220\n",
       "4     Os  749.498994  661.246503\n",
       "5     Be  348.772152  289.940474\n",
       "6     Ti  146.152000  103.953016\n",
       "7     Er   75.699824   68.140595\n",
       "8     Hf  163.232558  139.057418\n",
       "9     Sc   94.563165   72.628628\n",
       "10    Gd   62.020016   52.788684\n",
       "11    Re  587.530934  428.256536\n",
       "12    Ho   70.961410   63.834584\n",
       "13    Ru  548.836218  459.123810\n",
       "14    Dy   75.457255   62.384514\n",
       "15    Lu   70.004006   67.135399\n",
       "16    Mg   50.724471   42.852750\n",
       "17    Zn  127.805610   36.302805\n",
       "18    Co  280.722467  186.619100\n",
       "19    Tb   62.532618   54.903712\n",
       "20     Y   69.430345   60.795648"
      ]
     },
     "execution_count": 57,
     "metadata": {},
     "output_type": "execute_result"
    }
   ],
   "source": [
    "df"
   ]
  },
  {
   "cell_type": "code",
   "execution_count": 82,
   "id": "smart-swimming",
   "metadata": {},
   "outputs": [],
   "source": [
    "Be=[]\n",
    "Co=[]\n",
    "Zn=[]\n",
    "for i in (1,4,5,2,3):\n",
    "    Be.append(float(data[i]))\n",
    "    Co.append(float(data[4*7+i]))\n",
    "    Zn.append(float(data[5*7+i]))\n",
    "Be=np.array(Be)\n",
    "Co=np.array(Co)\n",
    "Zn=np.array(Zn)"
   ]
  },
  {
   "cell_type": "code",
   "execution_count": 83,
   "id": "optional-screening",
   "metadata": {},
   "outputs": [
    {
     "data": {
      "text/plain": [
       "array([292.,  24.,   6., 349., 163.])"
      ]
     },
     "execution_count": 83,
     "metadata": {},
     "output_type": "execute_result"
    }
   ],
   "source": [
    "Be"
   ]
  },
  {
   "cell_type": "code",
   "execution_count": 84,
   "id": "professional-atlas",
   "metadata": {},
   "outputs": [
    {
     "data": {
      "text/plain": [
       "array([295., 159., 111., 335.,  71.])"
      ]
     },
     "execution_count": 84,
     "metadata": {},
     "output_type": "execute_result"
    }
   ],
   "source": [
    "Co"
   ]
  },
  {
   "cell_type": "code",
   "execution_count": 85,
   "id": "delayed-twist",
   "metadata": {},
   "outputs": [
    {
     "data": {
      "text/plain": [
       "array([165. ,  31.1,  50. ,  61.8,  39.6])"
      ]
     },
     "execution_count": 85,
     "metadata": {},
     "output_type": "execute_result"
    }
   ],
   "source": [
    "Zn"
   ]
  },
  {
   "cell_type": "code",
   "execution_count": 86,
   "id": "hidden-steps",
   "metadata": {},
   "outputs": [
    {
     "data": {
      "text/plain": [
       "array([102.2 ,   8.4 ,   2.1 , 122.15,  57.05])"
      ]
     },
     "execution_count": 86,
     "metadata": {},
     "output_type": "execute_result"
    }
   ],
   "source": [
    "Be*0.35"
   ]
  },
  {
   "cell_type": "code",
   "execution_count": 87,
   "id": "global-bennett",
   "metadata": {},
   "outputs": [
    {
     "data": {
      "text/plain": [
       "array([147.5,  79.5,  55.5, 167.5,  35.5])"
      ]
     },
     "execution_count": 87,
     "metadata": {},
     "output_type": "execute_result"
    }
   ],
   "source": [
    "Co*0.5"
   ]
  },
  {
   "cell_type": "code",
   "execution_count": 4,
   "id": "fewer-making",
   "metadata": {},
   "outputs": [],
   "source": [
    "Ti_=np.array([160, 90, 70, 180, 50])\n",
    "Co_=np.array([150, 80, 55, 170, 35])\n",
    "Zn_=np.array([165, 30, 50, 60, 40])"
   ]
  },
  {
   "cell_type": "code",
   "execution_count": 105,
   "id": "professional-motion",
   "metadata": {},
   "outputs": [],
   "source": [
    "data_=np.append(Be_, [Co_, Zn_])"
   ]
  },
  {
   "cell_type": "code",
   "execution_count": 106,
   "id": "compound-relay",
   "metadata": {},
   "outputs": [
    {
     "data": {
      "text/plain": [
       "array([100,  10,   5, 120,  60, 150,  80,  55, 170,  35, 165,  30,  50,\n",
       "        60,  40])"
      ]
     },
     "execution_count": 106,
     "metadata": {},
     "output_type": "execute_result"
    }
   ],
   "source": [
    "data_"
   ]
  },
  {
   "cell_type": "code",
   "execution_count": 107,
   "id": "seventh-declaration",
   "metadata": {},
   "outputs": [],
   "source": [
    "for (i, name) in zip(range(3), ('Be_', 'Co_', 'Zn_')):\n",
    "    cmd = 'python elasticModulusVisualization.py --symmetry hexagonal '\n",
    "    cmd += f'--c11 {data_[i*5]} --c12 {data_[i*5+1]} --c13 {data_[i*5+2]} --c33 {data_[i*5+3]} --c44 {data_[i*5+4]}'\n",
    "    cmd += ' vtk '\n",
    "    cmd += f'{name}'\n",
    "    os.system(f'{cmd}')"
   ]
  },
  {
   "cell_type": "code",
   "execution_count": 5,
   "id": "immune-hypothetical",
   "metadata": {},
   "outputs": [
    {
     "data": {
      "text/plain": [
       "0"
      ]
     },
     "execution_count": 5,
     "metadata": {},
     "output_type": "execute_result"
    }
   ],
   "source": [
    "cmd = 'python elasticModulusVisualization.py --symmetry hexagonal '\n",
    "cmd += f'--c11 160 --c12 90 --c13 70 --c33 180 --c44 50'\n",
    "cmd += ' vtk '\n",
    "cmd += f'red'\n",
    "os.system(f'{cmd}')"
   ]
  },
  {
   "cell_type": "code",
   "execution_count": 6,
   "id": "analyzed-prime",
   "metadata": {},
   "outputs": [
    {
     "data": {
      "text/plain": [
       "0"
      ]
     },
     "execution_count": 6,
     "metadata": {},
     "output_type": "execute_result"
    }
   ],
   "source": [
    "cmd = 'python elasticModulusVisualization.py --symmetry hexagonal '\n",
    "cmd += f'--c11 165 --c12 90 --c13 60 --c33 190 --c44 40'\n",
    "cmd += ' vtk '\n",
    "cmd += f'green'\n",
    "os.system(f'{cmd}')"
   ]
  },
  {
   "cell_type": "code",
   "execution_count": 2,
   "id": "considered-projector",
   "metadata": {},
   "outputs": [
    {
     "data": {
      "text/plain": [
       "0"
      ]
     },
     "execution_count": 2,
     "metadata": {},
     "output_type": "execute_result"
    }
   ],
   "source": [
    "cmd = 'python elasticModulusVisualization.py --symmetry hexagonal '\n",
    "cmd += f'--c11 165 --c12 5 --c13 55 --c33 140 --c44 60'\n",
    "cmd += ' vtk '\n",
    "cmd += f'blue'\n",
    "os.system(f'{cmd}')"
   ]
  },
  {
   "cell_type": "code",
   "execution_count": null,
   "id": "excellent-difficulty",
   "metadata": {},
   "outputs": [],
   "source": [
    "cmd = 'python elasticModulusVisualization.py --symmetry hexagonal '\n",
    "cmd += f'--c11 165 --c12 30 --c13 50 --c33 60 --c44 40'\n",
    "cmd += ' vtk '\n",
    "cmd += f'Zn'\n",
    "os.system(f'{cmd}')"
   ]
  }
 ],
 "metadata": {
  "kernelspec": {
   "display_name": "Python 3",
   "language": "python",
   "name": "python3"
  },
  "language_info": {
   "codemirror_mode": {
    "name": "ipython",
    "version": 3
   },
   "file_extension": ".py",
   "mimetype": "text/x-python",
   "name": "python",
   "nbconvert_exporter": "python",
   "pygments_lexer": "ipython3",
   "version": "3.8.12"
  }
 },
 "nbformat": 4,
 "nbformat_minor": 5
}
